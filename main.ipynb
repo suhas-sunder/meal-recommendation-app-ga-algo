{
 "cells": [
  {
   "cell_type": "code",
   "execution_count": null,
   "id": "4040dd2e-3e1d-4ef9-a5bb-a2d228962cd5",
   "metadata": {},
   "outputs": [
    {
     "name": "stdin",
     "output_type": "stream",
     "text": [
      "Enter calorie limit (e.g. 2000):  1200\n"
     ]
    },
    {
     "name": "stdout",
     "output_type": "stream",
     "text": [
      "Running GA Variants...\n",
      "\n",
      "Generation 1/50 (memetic=False, parallel=False)\n",
      "Generation 11/50 (memetic=False, parallel=False)\n",
      "Generation 21/50 (memetic=False, parallel=False)\n",
      "Generation 31/50 (memetic=False, parallel=False)\n",
      "Generation 41/50 (memetic=False, parallel=False)\n",
      "Generation 50/50 (memetic=False, parallel=False)\n",
      "Basic GA runtime: 1.48 seconds\n",
      "\n",
      "Generation 1/50 (memetic=False, parallel=True)\n",
      "Generation 11/50 (memetic=False, parallel=True)\n",
      "Generation 21/50 (memetic=False, parallel=True)\n",
      "Generation 31/50 (memetic=False, parallel=True)\n",
      "Generation 41/50 (memetic=False, parallel=True)\n",
      "Generation 50/50 (memetic=False, parallel=True)\n",
      "Parallel GA runtime: 0.44 seconds\n",
      "\n",
      "Generation 1/50 (memetic=True, parallel=True)\n"
     ]
    }
   ],
   "source": [
    "import time  # To measure how long each GA variant takes\n",
    "import modules.ga_runner as ga_runner  # Module to run different versions of the genetic algorithm (GA)\n",
    "import modules.utils as utils  # Utility functions (e.g., printing best solutions)\n",
    "import modules.visualizer as visualizer  # Functions to create plots and visual summaries\n",
    "from modules.config import NGEN  # Number of generations to run the GA\n",
    "\n",
    "# Print a message to indicate the GA runs are starting\n",
    "print(\"Running GA Variants...\\n\")\n",
    "\n",
    "# Run the basic GA (no parallelization, no local search)\n",
    "start = time.time()  # Start timer\n",
    "fitness_basic, best_basic, all_basic = ga_runner.run_ga(memetic=False, parallel=False)  # Run GA\n",
    "duration_basic = time.time() - start  # Calculate how long it took\n",
    "print(f\"Basic GA runtime: {duration_basic:.2f} seconds\\n\")  # Print the runtime\n",
    "\n",
    "# Run the parallel GA (runs fitness evaluations in parallel for speed)\n",
    "start = time.time()\n",
    "fitness_parallel, best_parallel, all_parallel = ga_runner.run_ga(memetic=False, parallel=True)\n",
    "duration_parallel = time.time() - start\n",
    "print(f\"Parallel GA runtime: {duration_parallel:.2f} seconds\\n\")\n",
    "\n",
    "# Run the memetic GA (combines GA with local search, also parallel)\n",
    "start = time.time()\n",
    "fitness_memetic, best_memetic, all_memetic = ga_runner.run_ga(memetic=True, parallel=True)\n",
    "duration_memetic = time.time() - start\n",
    "print(f\"Memetic GA runtime: {duration_memetic:.2f} seconds\\n\")\n",
    "\n",
    "# Show a comparison table of runtimes for all three GA variants\n",
    "visualizer.print_runtime_table(duration_basic, duration_parallel, duration_memetic)\n",
    "\n",
    "# Print the best meal plans found by each GA variant, nicely formatted\n",
    "utils.print_best_solution(\"Basic GA\", best_basic)\n",
    "utils.print_best_solution(\"Parallel GA\", best_parallel)\n",
    "utils.print_best_solution(\"Memetic GA\", best_memetic)\n",
    "\n",
    "# Generate a line plot comparing the best fitness per generation for each GA variant\n",
    "visualizer.plot_fitness(fitness_basic, fitness_parallel, fitness_memetic)\n",
    "\n",
    "# Generate boxplots showing the distribution of fitness values across the population\n",
    "# for each generation and each GA variant\n",
    "visualizer.plot_boxplots(all_basic, all_parallel, all_memetic, NGEN)\n"
   ]
  },
  {
   "cell_type": "code",
   "execution_count": null,
   "id": "f7d413dc-3e17-401e-9446-fe7f977a6d02",
   "metadata": {},
   "outputs": [],
   "source": []
  }
 ],
 "metadata": {
  "kernelspec": {
   "display_name": "Python 3 (ipykernel)",
   "language": "python",
   "name": "python3"
  },
  "language_info": {
   "codemirror_mode": {
    "name": "ipython",
    "version": 3
   },
   "file_extension": ".py",
   "mimetype": "text/x-python",
   "name": "python",
   "nbconvert_exporter": "python",
   "pygments_lexer": "ipython3",
   "version": "3.12.3"
  }
 },
 "nbformat": 4,
 "nbformat_minor": 5
}
